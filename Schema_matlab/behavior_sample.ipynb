{
 "cells": [
  {
   "cell_type": "code",
   "execution_count": 1,
   "metadata": {},
   "outputs": [],
   "source": [
    "import datajoint as dj\n",
    "dj.config['database.host'] = 'ucsd-demo-db.datajoint.io'\n",
    "dj.config['database.user'] = 'conrad'\n",
    "dj.config['database.password'] = 'pw4dklab'"
   ]
  },
  {
   "cell_type": "code",
   "execution_count": 2,
   "metadata": {},
   "outputs": [
    {
     "name": "stdout",
     "output_type": "stream",
     "text": [
      "Connecting conrad@ucsd-demo-db.datajoint.io:3306\n"
     ]
    }
   ],
   "source": [
    "schema = dj.schema('conrad_test')"
   ]
  },
  {
   "cell_type": "code",
   "execution_count": 4,
   "metadata": {},
   "outputs": [],
   "source": [
    "@schema\n",
    "class Mouse(dj.Manual):\n",
    "    definition = \"\"\"\n",
    "    #Mouse in the lab \n",
    "    mouse_id : char(8) #unique mouse id\n",
    "    ---\n",
    "    dob : date\n",
    "    iacuc_barcode: bigint unsigned\n",
    "    sex = 'M': enum('M','F')\n",
    "    genotype = 'C57/Bl6': varchar(1000)\n",
    "    \"\"\""
   ]
  },
  {
   "cell_type": "code",
   "execution_count": null,
   "metadata": {},
   "outputs": [],
   "source": [
    "Mouse.insert1(dict(mouse='CF_A1_05',dob='2018-2-08',iacuc_barcode=2,sex='M',genotype='C57/Bl6'))"
   ]
  },
  {
   "cell_type": "code",
   "execution_count": 6,
   "metadata": {},
   "outputs": [],
   "source": [
    "@schema\n",
    "class Session(dj.Manual):\n",
    "    definition=\"\"\"\n",
    "    ->Mouse\n",
    "    session : tinyint unsigned #Session number for the mouse\n",
    "    ---\n",
    "    path_to_tiff : varchar(1000) #Two photon tiff file\n",
    "    path_to_adi : varchar(1000) #Labchart file with behavioural data\n",
    "    adi_trial_num : tinyint #The session number in the adicht file associated with session\n",
    "    type : enum('naive','fbd1','fbd2','post') #Type of experimental trial\n",
    "    \"\"\""
   ]
  },
  {
   "cell_type": "code",
   "execution_count": 9,
   "metadata": {},
   "outputs": [
    {
     "data": {
      "text/html": [
       "\n",
       "        \n",
       "        <style type=\"text/css\">\n",
       "            .Relation{\n",
       "                border-collapse:collapse;\n",
       "            }\n",
       "            .Relation th{\n",
       "                background: #A0A0A0; color: #ffffff; padding:4px; border:#f0e0e0 1px solid;\n",
       "                font-weight: normal; font-family: monospace; font-size: 100%;\n",
       "            }\n",
       "            .Relation td{\n",
       "                padding:4px; border:#f0e0e0 1px solid; font-size:100%;\n",
       "            }\n",
       "            .Relation tr:nth-child(odd){\n",
       "                background: #ffffff;\n",
       "            }\n",
       "            .Relation tr:nth-child(even){\n",
       "                background: #f3f1ff;\n",
       "            }\n",
       "            /* Tooltip container */\n",
       "            .djtooltip {\n",
       "            }\n",
       "            /* Tooltip text */\n",
       "            .djtooltip .djtooltiptext {\n",
       "                visibility: hidden;\n",
       "                width: 120px;\n",
       "                background-color: black;\n",
       "                color: #fff;\n",
       "                text-align: center;\n",
       "                padding: 5px 0;\n",
       "                border-radius: 6px;\n",
       "                /* Position the tooltip text - see examples below! */\n",
       "                position: absolute;\n",
       "                z-index: 1;\n",
       "            }\n",
       "            #primary {\n",
       "                font-weight: bold;\n",
       "                color: black;\n",
       "            }\n",
       "\n",
       "            #nonprimary {\n",
       "                font-weight: normal;\n",
       "                color: white;\n",
       "            }\n",
       "\n",
       "            /* Show the tooltip text when you mouse over the tooltip container */\n",
       "            .djtooltip:hover .djtooltiptext {\n",
       "                visibility: visible;\n",
       "            }\n",
       "        </style>\n",
       "        \n",
       "        <b></b>\n",
       "            <div style=\"max-height:1000px;max-width:1500px;overflow:auto;\">\n",
       "            <table border=\"1\" class=\"Relation\">\n",
       "                <thead> <tr style=\"text-align: right;\"> <th> <div class=\"djtooltip\">\n",
       "                                <p id=\"primary\">mouse_id</p>\n",
       "                                <span class=\"djtooltiptext\">unique mouse id - CF_Sensor_number</span>\n",
       "                            </div></th><th><div class=\"djtooltip\">\n",
       "                                <p id=\"primary\">session</p>\n",
       "                                <span class=\"djtooltiptext\">The session number</span>\n",
       "                            </div></th><th><div class=\"djtooltip\">\n",
       "                                <p id=\"nonprimary\">path_to_tiff</p>\n",
       "                                <span class=\"djtooltiptext\">Two photon tiff file</span>\n",
       "                            </div></th><th><div class=\"djtooltip\">\n",
       "                                <p id=\"nonprimary\">path_to_adi</p>\n",
       "                                <span class=\"djtooltiptext\">Labchart file with behavioural data</span>\n",
       "                            </div></th><th><div class=\"djtooltip\">\n",
       "                                <p id=\"nonprimary\">adi_trial_num</p>\n",
       "                                <span class=\"djtooltiptext\">The session number in the adicht file associated with this session</span>\n",
       "                            </div></th><th><div class=\"djtooltip\">\n",
       "                                <p id=\"nonprimary\">session_date</p>\n",
       "                                <span class=\"djtooltiptext\">The date of the session</span>\n",
       "                            </div></th><th><div class=\"djtooltip\">\n",
       "                                <p id=\"nonprimary\">type</p>\n",
       "                                <span class=\"djtooltiptext\">The type of experimental trial</span>\n",
       "                            </div> </th> </tr> </thead>\n",
       "                <tbody> <tr> <td>CF_D2_01</td>\n",
       "<td>1</td>\n",
       "<td>G:\\D2_1\\baseline_00003.tif</td>\n",
       "<td>G:\\D2_1\\d2_fb_1.adicht</td>\n",
       "<td>2</td>\n",
       "<td>2018-04-29</td>\n",
       "<td>naive</td></tr><tr><td>CF_D2_01</td>\n",
       "<td>2</td>\n",
       "<td>G:\\D2_1\\baseline_00004.tif</td>\n",
       "<td>G:\\D2_1\\d2_fb_1.adicht</td>\n",
       "<td>3</td>\n",
       "<td>2018-04-29</td>\n",
       "<td>fbd1</td></tr><tr><td>CF_D2_01</td>\n",
       "<td>3</td>\n",
       "<td>G:\\D2_1\\feedback_00002.tif</td>\n",
       "<td>G:\\D2_1\\d2_fb_1.adicht</td>\n",
       "<td>5</td>\n",
       "<td>2018-04-29</td>\n",
       "<td>fbd1</td></tr><tr><td>CF_D2_01</td>\n",
       "<td>4</td>\n",
       "<td>G:\\D2_1\\Day 2\\feedback_00001.tif</td>\n",
       "<td>G:\\D2_1\\d2_fb_3.adicht</td>\n",
       "<td>1</td>\n",
       "<td>2018-04-30</td>\n",
       "<td>fbd2</td></tr><tr><td>CF_D2_01</td>\n",
       "<td>5</td>\n",
       "<td>G:\\D2_1\\Day 2\\post_00002.tif</td>\n",
       "<td>G:\\D2_1\\d2_fb_3.adicht</td>\n",
       "<td>4</td>\n",
       "<td>2018-04-30</td>\n",
       "<td>post</td> </tr> </tbody>\n",
       "            </table>\n",
       "            \n",
       "            <p>5 tuples</p></div>\n",
       "            "
      ],
      "text/plain": [
       "*mouse_id    *session    path_to_tiff   path_to_adi    adi_trial_num  session_date   type     \n",
       "+----------+ +---------+ +------------+ +------------+ +------------+ +------------+ +-------+\n",
       "CF_D2_01     1           G:\\D2_1\\baseli G:\\D2_1\\d2_fb_ 2              2018-04-29     naive    \n",
       "CF_D2_01     2           G:\\D2_1\\baseli G:\\D2_1\\d2_fb_ 3              2018-04-29     fbd1     \n",
       "CF_D2_01     3           G:\\D2_1\\feedba G:\\D2_1\\d2_fb_ 5              2018-04-29     fbd1     \n",
       "CF_D2_01     4           G:\\D2_1\\Day 2\\ G:\\D2_1\\d2_fb_ 1              2018-04-30     fbd2     \n",
       "CF_D2_01     5           G:\\D2_1\\Day 2\\ G:\\D2_1\\d2_fb_ 4              2018-04-30     post     \n",
       " (5 tuples)"
      ]
     },
     "execution_count": 9,
     "metadata": {},
     "output_type": "execute_result"
    }
   ],
   "source": [
    "Session()"
   ]
  },
  {
   "cell_type": "code",
   "execution_count": 3,
   "metadata": {},
   "outputs": [
    {
     "data": {
      "image/png": "[encoded data removed]",
      "text/plain": [
       "<Figure size 432x288 with 1 Axes>"
      ]
     },
     "metadata": {
      "needs_background": "light"
     },
     "output_type": "display_data"
    }
   ],
   "source": [
    "dj.ERD(schema).draw()"
   ]
  },
  {
   "cell_type": "code",
   "execution_count": 7,
   "metadata": {},
   "outputs": [],
   "source": [
    "@schema\n",
    "class TestPopulate(dj.Imported):\n",
    "    definition=\"\"\"\n",
    "    ->Session\n",
    "    -----\n",
    "    expmt_type : varchar(1000) #Return the session type.\n",
    "    \"\"\"\n",
    "    \n",
    "    def make(self, key):\n",
    "        img = (Session & key).fetch1('type')\n",
    "        print(key)\n",
    "        key['expmt_type'] = img\n",
    "        print(key)\n",
    "        self.insert1(key)"
   ]
  },
  {
   "cell_type": "code",
   "execution_count": 23,
   "metadata": {},
   "outputs": [],
   "source": [
    "z = Session() & \"mouse_id = 'CF_D2_01'\" & \"type = 'fbd1'\""
   ]
  },
  {
   "cell_type": "code",
   "execution_count": 28,
   "metadata": {},
   "outputs": [],
   "source": [
    "data = z.fetch()"
   ]
  },
  {
   "cell_type": "code",
   "execution_count": 13,
   "metadata": {},
   "outputs": [],
   "source": [
    "data = TestPopulate.fetch()"
   ]
  },
  {
   "cell_type": "code",
   "execution_count": 22,
   "metadata": {},
   "outputs": [
    {
     "name": "stdout",
     "output_type": "stream",
     "text": [
      "About to delete:\n",
      "`conrad_test`.`_test_populate`: 5 items\n",
      "Proceed? [yes, No]: yes\n",
      "Committed.\n"
     ]
    }
   ],
   "source": [
    "(TestPopulate & 'mouse_id = \"CF_D2_01\"').delete();"
   ]
  },
  {
   "cell_type": "code",
   "execution_count": 26,
   "metadata": {},
   "outputs": [
    {
     "name": "stdout",
     "output_type": "stream",
     "text": [
      "{'mouse_id': 'CF_D2_01', 'session': 1}\n",
      "{'mouse_id': 'CF_D2_01', 'session': 1, 'expmt_type': 'naive'}\n",
      "{'mouse_id': 'CF_D2_01', 'session': 2}\n",
      "{'mouse_id': 'CF_D2_01', 'session': 2, 'expmt_type': 'fbd1'}\n",
      "{'mouse_id': 'CF_D2_01', 'session': 4}\n",
      "{'mouse_id': 'CF_D2_01', 'session': 4, 'expmt_type': 'fbd2'}\n"
     ]
    }
   ],
   "source": [
    "TestPopulate.populate()"
   ]
  },
  {
   "cell_type": "code",
   "execution_count": 27,
   "metadata": {},
   "outputs": [
    {
     "data": {
      "text/plain": [
       "array([('CF_D2_01', 1, 'naive'), ('CF_D2_01', 2, 'fbd1'),\n",
       "       ('CF_D2_01', 3, 'fbd2'), ('CF_D2_01', 4, 'fbd2'),\n",
       "       ('CF_D2_01', 5, 'fbd2')],\n",
       "      dtype=[('mouse_id', 'O'), ('session', '<i8'), ('expmt_type', 'O')])"
      ]
     },
     "execution_count": 27,
     "metadata": {},
     "output_type": "execute_result"
    }
   ],
   "source": [
    "TestPopulate.fetch()"
   ]
  },
  {
   "cell_type": "code",
   "execution_count": 44,
   "metadata": {},
   "outputs": [],
   "source": [
    "@schema\n",
    "class Imaging(dj.Imported):\n",
    "    definition = \"\"\"\n",
    "    ->Session\n",
    "    ---\n",
    "    roi_img : longblob #The ROI used for calculating the fluorescence traces\n",
    "    yfp : longblob #The YFP fluorescence trace (dF/F)\n",
    "    cfp : longblob #The CFP fluorescence trace (dF/F)\n",
    "    fret : longblob #The FRET signal (dR/R = yfp/cfp - 1)\n",
    "    thresh : longblob #The reward threshold for the FRET signal\n",
    "    t : longblob #The time from the start of the imaging session\n",
    "    si : longblob #The scanimage property structure\n",
    "    \"\"\"\n",
    "    \n",
    "    def make(self,key):\n",
    "        self.insert1(key)"
   ]
  },
  {
   "cell_type": "code",
   "execution_count": 45,
   "metadata": {},
   "outputs": [],
   "source": [
    "import numpy as np\n",
    "z = dict(mouse_id = 'CF_D2_01', session = 1, roi_img = np.zeros([512,512],dtype = float), yfp = np.zeros(15000,dtype = float), cfp = np.zeros(15000,dtype = float), fret = np.zeros(15000,dtype = float), thresh = np.zeros(15000,dtype = float), t = np.zeros(15000,dtype = float), si = dict())"
   ]
  },
  {
   "cell_type": "code",
   "execution_count": 46,
   "metadata": {},
   "outputs": [],
   "source": [
    "Imaging.insert1(z)"
   ]
  },
  {
   "cell_type": "code",
   "execution_count": 39,
   "metadata": {},
   "outputs": [],
   "source": [
    "@schema\n",
    "class Behavior(dj.Imported):\n",
    "    definition=\"\"\"\n",
    "    ->Session\n",
    "    ---\n",
    "    lick_freq : longblob #The frequency of licks (Hz)\n",
    "    ang_vel : longblob #The angular velocity of running (deg/s)\n",
    "    t : longblob #The time from start of imaging session (s)\n",
    "    \"\"\"\n",
    "    \n",
    "    def make(self,key):\n",
    "        self.insert1(key)"
   ]
  },
  {
   "cell_type": "code",
   "execution_count": 41,
   "metadata": {},
   "outputs": [],
   "source": [
    "z = dict(mouse_id = 'CF_D2_01',session = 1, lick_freq = np.zeros(3529412,dtype=float), ang_vel = np.zeros(3529412,dtype=float), t = np.zeros(3529412,dtype=float))"
   ]
  },
  {
   "cell_type": "code",
   "execution_count": 42,
   "metadata": {},
   "outputs": [],
   "source": [
    "Behavior.insert1(z)"
   ]
  }
 ],
 "metadata": {
  "kernelspec": {
   "display_name": "Python 3",
   "language": "python",
   "name": "python3"
  },
  "language_info": {
   "codemirror_mode": {
    "name": "ipython",
    "version": 3
   },
   "file_extension": ".py",
   "mimetype": "text/x-python",
   "name": "python",
   "nbconvert_exporter": "python",
   "pygments_lexer": "ipython3",
   "version": "3.6.7"
  }
 },
 "nbformat": 4,
 "nbformat_minor": 2
}
